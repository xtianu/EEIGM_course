{
  "nbformat": 4,
  "nbformat_minor": 0,
  "metadata": {
    "colab": {
      "provenance": [],
      "toc_visible": true,
      "include_colab_link": true
    },
    "kernelspec": {
      "name": "python3",
      "display_name": "Python 3"
    },
    "language_info": {
      "name": "python"
    }
  },
  "cells": [
    {
      "cell_type": "markdown",
      "metadata": {
        "id": "view-in-github",
        "colab_type": "text"
      },
      "source": [
        "<a href=\"https://colab.research.google.com/github/xtianu/EEIGM_course/blob/main/EEIGM_PUC_test.ipynb\" target=\"_parent\"><img src=\"https://colab.research.google.com/assets/colab-badge.svg\" alt=\"Open In Colab\"/></a>"
      ]
    },
    {
      "cell_type": "markdown",
      "source": [
        "# PUC course EEIGM - DATA ANALYSIS & IMAGE PROCESSING\n",
        "## Final test (40 min total)\n",
        "\n",
        "R. Benítez, C. Mata\n",
        "\n",
        "You can use the course materials during the exam. \n",
        "Please use this Python notebook to complete the following questions:"
      ],
      "metadata": {
        "id": "b2hkKAgSjg6L"
      }
    },
    {
      "cell_type": "markdown",
      "source": [
        "# EXERCISE 1: Data analysis (20 min) "
      ],
      "metadata": {
        "id": "4cAJKDsik84a"
      }
    },
    {
      "cell_type": "markdown",
      "source": [
        "1. Load the mpg dataset from the seaborn library "
      ],
      "metadata": {
        "id": "ASUKe_FXj1Fk"
      }
    },
    {
      "cell_type": "code",
      "execution_count": null,
      "metadata": {
        "id": "iN6UX57zjf_F"
      },
      "outputs": [],
      "source": []
    },
    {
      "cell_type": "markdown",
      "source": [
        "2. Are there missing values in the data? If this is the case, remove all the observations "
      ],
      "metadata": {
        "id": "AV75icItkL-n"
      }
    },
    {
      "cell_type": "code",
      "source": [],
      "metadata": {
        "id": "GWRdHTdmkfv9"
      },
      "execution_count": null,
      "outputs": []
    },
    {
      "cell_type": "markdown",
      "source": [
        "3. Represent the data using a scatterplot matrix (pairplot)"
      ],
      "metadata": {
        "id": "I6ZUvMxNkwVB"
      }
    },
    {
      "cell_type": "code",
      "source": [],
      "metadata": {
        "id": "yCAfSjGLkv9Z"
      },
      "execution_count": null,
      "outputs": []
    },
    {
      "cell_type": "markdown",
      "source": [
        "4. Remove all non-numerical columns from the database"
      ],
      "metadata": {
        "id": "0TEZvSkPkgFS"
      }
    },
    {
      "cell_type": "code",
      "source": [],
      "metadata": {
        "id": "J0sM-E5WkjZY"
      },
      "execution_count": null,
      "outputs": []
    },
    {
      "cell_type": "markdown",
      "source": [
        "4. Perform a k-means clustering to the numerical data (choose k yourself and justify your choice)"
      ],
      "metadata": {
        "id": "MDUzdDc5kjo4"
      }
    },
    {
      "cell_type": "code",
      "source": [],
      "metadata": {
        "id": "wvKcfET0kpPd"
      },
      "execution_count": null,
      "outputs": []
    },
    {
      "cell_type": "markdown",
      "source": [
        "5. Represent the resulting clustering with a grouped pairplot"
      ],
      "metadata": {
        "id": "Pnakzm5ekpce"
      }
    },
    {
      "cell_type": "code",
      "source": [],
      "metadata": {
        "id": "ffEOasrElBeO"
      },
      "execution_count": null,
      "outputs": []
    },
    {
      "cell_type": "markdown",
      "source": [
        "# EXERCISE 2: Image processing (20min)"
      ],
      "metadata": {
        "id": "lm9ZWIVDlBo3"
      }
    },
    {
      "cell_type": "markdown",
      "source": [
        "6. Read a color image and display the original histogram. Apply noise to the image and show the histogram. Compare both results. (Try to display a figure with two images)"
      ],
      "metadata": {
        "id": "XoSSUm7EHaXs"
      }
    },
    {
      "cell_type": "code",
      "source": [],
      "metadata": {
        "id": "MtADS-wWIRFA"
      },
      "execution_count": null,
      "outputs": []
    },
    {
      "cell_type": "markdown",
      "source": [
        "7. Now, how we can remove the noise? Try to use different filters to correct the image and display the results."
      ],
      "metadata": {
        "id": "r1kYtUVTISC2"
      }
    },
    {
      "cell_type": "code",
      "source": [],
      "metadata": {
        "id": "LSJtWdrrJBJ2"
      },
      "execution_count": null,
      "outputs": []
    },
    {
      "cell_type": "markdown",
      "source": [
        "8. Unsupervised segmentation of a color image: Download an RGB color image, convert to grayscale and apply a k-means algorithm to segment the different structures"
      ],
      "metadata": {
        "id": "TVUlMLt-3EDm"
      }
    },
    {
      "cell_type": "code",
      "source": [],
      "metadata": {
        "id": "xYNrHIS-3mUu"
      },
      "execution_count": null,
      "outputs": []
    }
  ]
}