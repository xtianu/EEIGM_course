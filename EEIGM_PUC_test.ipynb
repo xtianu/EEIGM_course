{
  "nbformat": 4,
  "nbformat_minor": 0,
  "metadata": {
    "colab": {
      "provenance": [],
      "toc_visible": true,
      "include_colab_link": true
    },
    "kernelspec": {
      "name": "python3",
      "display_name": "Python 3"
    },
    "language_info": {
      "name": "python"
    }
  },
  "cells": [
    {
      "cell_type": "markdown",
      "metadata": {
        "id": "view-in-github",
        "colab_type": "text"
      },
      "source": [
        "<a href=\"https://colab.research.google.com/github/xtianu/EEIGM_course/blob/main/EEIGM_PUC_test.ipynb\" target=\"_parent\"><img src=\"https://colab.research.google.com/assets/colab-badge.svg\" alt=\"Open In Colab\"/></a>"
      ]
    },
    {
      "cell_type": "markdown",
      "source": [
        "# PUC course EEIGM - DATA ANALYSIS & IMAGE PROCESSING\n",
        "## Final test (20 min total)\n",
        "\n",
        "Christian Mata\n",
        "\n",
        "Puedes utilizar los materiales del curso durante el examen.\n",
        "Por favor, utiliza este cuaderno de Python para completar las siguientes preguntas:"
      ],
      "metadata": {
        "id": "b2hkKAgSjg6L"
      }
    },
    {
      "cell_type": "markdown",
      "source": [
        "# Image processing"
      ],
      "metadata": {
        "id": "lm9ZWIVDlBo3"
      }
    },
    {
      "cell_type": "markdown",
      "source": [
        "  1. Lee una imagen en color y muestra el histograma original. Aplica ruido a la imagen y muestra el histograma. Compara ambos resultados. (Intenta mostrar una figura con dos imágenes)."
      ],
      "metadata": {
        "id": "XoSSUm7EHaXs"
      }
    },
    {
      "cell_type": "code",
      "source": [],
      "metadata": {
        "id": "MtADS-wWIRFA"
      },
      "execution_count": null,
      "outputs": []
    },
    {
      "cell_type": "markdown",
      "source": [
        "2. Ahora, ¿cómo podemos eliminar el ruido? Intenta utilizar diferentes filtros para corregir la imagen y muestra los resultados."
      ],
      "metadata": {
        "id": "r1kYtUVTISC2"
      }
    },
    {
      "cell_type": "code",
      "source": [],
      "metadata": {
        "id": "LSJtWdrrJBJ2"
      },
      "execution_count": null,
      "outputs": []
    },
    {
      "cell_type": "markdown",
      "source": [
        "3. Segmentación no supervisada de una imagen en color: Descarga una imagen en color RGB, conviértela a escala de grises y aplica un algoritmo de k-means para segmentar las diferentes estructuras."
      ],
      "metadata": {
        "id": "TVUlMLt-3EDm"
      }
    },
    {
      "cell_type": "code",
      "source": [],
      "metadata": {
        "id": "xYNrHIS-3mUu"
      },
      "execution_count": null,
      "outputs": []
    },
    {
      "cell_type": "markdown",
      "source": [
        "4. De la imagen segmentada anterior aplica las técnicas necesarias para obtener propiedades de textura y entropía."
      ],
      "metadata": {
        "id": "i0BetMx_G0mR"
      }
    },
    {
      "cell_type": "code",
      "source": [],
      "metadata": {
        "id": "1k5WdqDDIrvD"
      },
      "execution_count": null,
      "outputs": []
    }
  ]
}