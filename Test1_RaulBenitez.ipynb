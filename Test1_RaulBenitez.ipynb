{
  "nbformat": 4,
  "nbformat_minor": 0,
  "metadata": {
    "colab": {
      "provenance": [],
      "include_colab_link": true
    },
    "kernelspec": {
      "name": "python3",
      "display_name": "Python 3"
    },
    "language_info": {
      "name": "python"
    }
  },
  "cells": [
    {
      "cell_type": "markdown",
      "metadata": {
        "id": "view-in-github",
        "colab_type": "text"
      },
      "source": [
        "<a href=\"https://colab.research.google.com/github/xtianu/EEIGM_course/blob/main/Test1_RaulBenitez.ipynb\" target=\"_parent\"><img src=\"https://colab.research.google.com/assets/colab-badge.svg\" alt=\"Open In Colab\"/></a>"
      ]
    },
    {
      "cell_type": "markdown",
      "source": [
        "# EXAMEN CURSO ANALISIS DE DATOS - PUC EEIGM October 2024 (20min)\n",
        "Test 1 |\n",
        "**Raúl Benítez**"
      ],
      "metadata": {
        "id": "EQktsAOocVYI"
      }
    },
    {
      "cell_type": "markdown",
      "source": [
        "1. Use the function load_dataset from the seaborn libarry to load the dataset 'diamonds'\n",
        "\n",
        "https://seaborn.pydata.org/generated/seaborn.load_dataset.html"
      ],
      "metadata": {
        "id": "5uRAPJUeV7Uu"
      }
    },
    {
      "cell_type": "code",
      "source": [],
      "metadata": {
        "id": "SVTWYnwccrBm"
      },
      "execution_count": null,
      "outputs": []
    },
    {
      "cell_type": "markdown",
      "source": [
        "2. Eliminad las variables 'carat', 'color', 'clarity'. Utilizaremos 'table', 'price', 'x', 'y' y 'z' como features y la variable 'cut' como etiqueta de clase.\n"
      ],
      "metadata": {
        "id": "l6AjZgomXWNx"
      }
    },
    {
      "cell_type": "code",
      "source": [],
      "metadata": {
        "id": "L7GjZCnucrfj"
      },
      "execution_count": null,
      "outputs": []
    },
    {
      "cell_type": "markdown",
      "source": [
        "3. Representad los datos mediante un scatter plot matrix utilizando colores diferentes para cada clase"
      ],
      "metadata": {
        "id": "ufECaN4-Xooj"
      }
    },
    {
      "cell_type": "code",
      "source": [],
      "metadata": {
        "id": "xfxlXtPucsGP"
      },
      "execution_count": null,
      "outputs": []
    },
    {
      "cell_type": "markdown",
      "source": [
        "4. Dividid los datos en los subconjuntos de entrenamiento (70%) y test (30%)"
      ],
      "metadata": {
        "id": "zOMZflJXX7mc"
      }
    },
    {
      "cell_type": "code",
      "source": [],
      "metadata": {
        "id": "ZP32BMMocs1C"
      },
      "execution_count": null,
      "outputs": []
    },
    {
      "cell_type": "markdown",
      "source": [
        "5. Ajustad 5 modelos de clasificación: KNN, Gaussian Naive Bayes, Decision Trees, Quadratic Discriminant Analysis (QDA). Reportar las matrices de confusion y el classification report.\n",
        "\n",
        "https://scikit-learn.org/1.5/modules/generated/sklearn.metrics.classification_report.html\n",
        "\n",
        "¿Qué modelo de clasificación presenta un mayor promeio del F1-score?\n"
      ],
      "metadata": {
        "id": "D2m1iHOOX57r"
      }
    },
    {
      "cell_type": "code",
      "source": [],
      "metadata": {
        "id": "Z4jcL7N9ctmU"
      },
      "execution_count": null,
      "outputs": []
    }
  ]
}